{
 "cells": [
  {
   "cell_type": "markdown",
   "id": "b823326b",
   "metadata": {},
   "source": [
    "<a class='anchor' id=\"summary\"></a>\n",
    "### [Table of Contents](#summary)\n",
    "\n",
    "\n",
    "- **[Day 1](#day1)**\n",
    "    - [Intro : check the original dataset](#intro)\n",
    "    - [Part I : Data rows preprocessing](#part1)\n",
    "    - [Part II : Data set preprocessing](#part2)\n",
    "    - [Part III : Refactorization](#part3)\n",
    "- **[Day 2](#day2)**\n",
    "    - [Summary statistics](#statistics)\n",
    "    - [Imputing missing values](#missing)\n",
    "    - [Compute value_counts for categorical columns](#value_counts)\n",
    "    - [Data lookup](#lookup)\n",
    "        - [Question 1](#question1)\n",
    "        - [Question 2](#question2)\n",
    "        - [Question 3](#question3)\n",
    "        - [Question 4](#question4)\n",
    "        - [Question 5](#question5)"
   ]
  },
  {
   "cell_type": "markdown",
   "id": "768f3e63",
   "metadata": {},
   "source": [
    "<a class='anchor' id=\"day1\"></span>\n",
    "# <span style=\"color:blue\"> Day 1</span>\n",
    "[Table of Contents](#summary)"
   ]
  },
  {
   "cell_type": "markdown",
   "id": "eab4171c",
   "metadata": {},
   "source": [
    "<a class='anchor' id='intro'></a>\n",
    "## Intro : check the original dataset\n",
    "\n",
    "You may download the original dataset from :\n",
    "https://www.kaggle.com/PromptCloudHQ/innerwear-data-from-victorias-secret-and-others\n",
    "- Explore the meta-data of the dataset\n",
    "- Understand the global content of the dataset\n",
    "- Check for the different variables and their type\n",
    "\n",
    "For this class, we will use a slightly modified version available here :\n",
    "https://github.com/jaotombo/data_science_from_scratch/tree/main/data\n",
    "<br>Download and unzip the `victoria` file into this course's data folder\n",
    "\n",
    "[Table of Contents](#summary)"
   ]
  },
  {
   "cell_type": "markdown",
   "id": "drawn-lightweight",
   "metadata": {},
   "source": [
    "<a class='anchor' id='part1'></a>\n",
    "## Part I : Data rows preprocessing\n",
    "[Table of Contents](#summary)"
   ]
  },
  {
   "cell_type": "code",
   "execution_count": 1,
   "id": "spare-confidentiality",
   "metadata": {},
   "outputs": [],
   "source": [
    "import pandas as pd\n",
    "import numpy as np\n",
    "import os"
   ]
  },
  {
   "cell_type": "code",
   "execution_count": 2,
   "id": "peaceful-tonight",
   "metadata": {},
   "outputs": [
    {
     "data": {
      "text/plain": [
       "'D:\\\\Dropbox\\\\EM Lyon\\\\AI001-bootcamp\\\\Notebooks_bootcamp\\\\Franck'"
      ]
     },
     "execution_count": 2,
     "metadata": {},
     "output_type": "execute_result"
    }
   ],
   "source": [
    "os.getcwd()"
   ]
  },
  {
   "cell_type": "code",
   "execution_count": 3,
   "id": "tracked-clarity",
   "metadata": {},
   "outputs": [],
   "source": [
    "DATA_PATH = r'D:\\Dropbox\\EM Lyon\\AI001-bootcamp\\data'"
   ]
  },
  {
   "cell_type": "code",
   "execution_count": 4,
   "id": "536f321e",
   "metadata": {},
   "outputs": [],
   "source": [
    "# os.chdir('../../data')\n",
    "os.chdir(DATA_PATH)"
   ]
  },
  {
   "cell_type": "markdown",
   "id": "0a44100c",
   "metadata": {},
   "source": [
    "### Check a few data points (steps 1 and 2)\n",
    "\n",
    "**Check a few lines** (the first 3 or 5 lines - enough to be able to check the content) of the data file `data/victoria.csv`, \n",
    "\n",
    "**Pick one line, and see how to process it.**\n",
    "\n",
    "Which means: Check how lines are structured\n",
    "- what kind of delimiter\n",
    "- which variables (column names)\n",
    "- which type of data (str, float, int, ...)\n",
    "- Save one line for later analysis in one variable"
   ]
  },
  {
   "cell_type": "code",
   "execution_count": 5,
   "id": "sticky-therapist",
   "metadata": {},
   "outputs": [
    {
     "name": "stdout",
     "output_type": "stream",
     "text": [
      "product_name*mrp*price*pdp_url*brand_name*product_category*retailer*description*rating*review_count*style_attributes*total_sizes*available_size*color\n",
      "\n",
      "Very Sexy Strappy Lace Thong Panty*$14.50 *$14.50 *https://www.victoriassecret.com/panties/shop-all-panties/strappy-lace-thong-panty-very-sexy?ProductID=328310&CatalogueType=OLS*Victoria's Secret*Strappy Lace Thong Panty*Victoriassecret US*Lots of cheek peek, pretty lace, a strappy back—this sexy panty is so not subtle. Allover lace with front bow V-back with crisscross straps Low rise Minimal back coverage: lots of cheek peek Imported nylon/spandex****\"[\"\"XS\"\", \"\"S\"\", \"\"M\"\", \"\"L\"\", \"\"XL\"\"]\"*S*peach melba\n",
      "\n",
      "Very Sexy Strappy Lace Thong Panty*$14.50 *$14.50 *https://www.victoriassecret.com/panties/shop-all-panties/strappy-lace-thong-panty-very-sexy?ProductID=328310&CatalogueType=OLS*Victoria's Secret*Strappy Lace Thong Panty*Victoriassecret US*Lots of cheek peek, pretty lace, a strappy back—this sexy panty is so not subtle. Allover lace with front bow V-back with crisscross straps Low rise Minimal back coverage: lots of cheek peek Imported nylon/spandex****\"[\"\"XS\"\", \"\"S\"\", \"\"M\"\", \"\"L\"\", \"\"XL\"\"]\"*S*black\n",
      "\n",
      "Very Sexy Strappy Lace Thong Panty*$14.50 *$14.50 *https://www.victoriassecret.com/panties/shop-all-panties/strappy-lace-thong-panty-very-sexy?ProductID=328310&CatalogueType=OLS*Victoria's Secret*Strappy Lace Thong Panty*Victoriassecret US*Lots of cheek peek, pretty lace, a strappy back—this sexy panty is so not subtle. Allover lace with front bow V-back with crisscross straps Low rise Minimal back coverage: lots of cheek peek Imported nylon/spandex****\"[\"\"XS\"\", \"\"S\"\", \"\"M\"\", \"\"L\"\", \"\"XL\"\"]\"*S*plum dust\n",
      "\n"
     ]
    }
   ],
   "source": [
    "with open('victoria.csv','r', encoding='utf-8') as file:\n",
    "    count = 0\n",
    "    for line in file:\n",
    "        print(line)\n",
    "        count += 1\n",
    "        if count > 3 : break"
   ]
  },
  {
   "cell_type": "code",
   "execution_count": 6,
   "id": "magnetic-milwaukee",
   "metadata": {},
   "outputs": [],
   "source": [
    "one_line = line"
   ]
  },
  {
   "cell_type": "markdown",
   "id": "c1a6099f",
   "metadata": {},
   "source": [
    "## Experiment with one line to define data preprocessing"
   ]
  },
  {
   "cell_type": "code",
   "execution_count": 7,
   "id": "oriented-option",
   "metadata": {},
   "outputs": [
    {
     "data": {
      "text/plain": [
       "'Very Sexy Strappy Lace Thong Panty*$14.50 *$14.50 *https://www.victoriassecret.com/panties/shop-all-panties/strappy-lace-thong-panty-very-sexy?ProductID=328310&CatalogueType=OLS*Victoria\\'s Secret*Strappy Lace Thong Panty*Victoriassecret US*Lots of cheek peek, pretty lace, a strappy back—this sexy panty is so not subtle. Allover lace with front bow V-back with crisscross straps Low rise Minimal back coverage: lots of cheek peek Imported nylon/spandex****\"[\"\"XS\"\", \"\"S\"\", \"\"M\"\", \"\"L\"\", \"\"XL\"\"]\"*S*plum dust\\n'"
      ]
     },
     "execution_count": 7,
     "metadata": {},
     "output_type": "execute_result"
    }
   ],
   "source": [
    "# print the last line read in the dataset\n",
    "one_line"
   ]
  },
  {
   "cell_type": "code",
   "execution_count": 8,
   "id": "crucial-operation",
   "metadata": {},
   "outputs": [
    {
     "name": "stdout",
     "output_type": "stream",
     "text": [
      "product_name*mrp*price*pdp_url*brand_name*product_category*retailer*description*rating*review_count*style_attributes*total_sizes*available_size*color\n",
      "\n"
     ]
    }
   ],
   "source": [
    "# print an save the first line of the dataset\n",
    "with open('victoria.csv','r') as file:\n",
    "    for line in file:\n",
    "        print(line)\n",
    "        break\n",
    "\n",
    "columns = line"
   ]
  },
  {
   "cell_type": "code",
   "execution_count": 9,
   "id": "trained-pontiac",
   "metadata": {
    "scrolled": true
   },
   "outputs": [
    {
     "data": {
      "text/plain": [
       "['product_name',\n",
       " 'mrp',\n",
       " 'price',\n",
       " 'pdp_url',\n",
       " 'brand_name',\n",
       " 'product_category',\n",
       " 'retailer',\n",
       " 'description',\n",
       " 'rating',\n",
       " 'review_count',\n",
       " 'style_attributes',\n",
       " 'total_sizes',\n",
       " 'available_size',\n",
       " 'color\\n']"
      ]
     },
     "execution_count": 9,
     "metadata": {},
     "output_type": "execute_result"
    }
   ],
   "source": [
    "# split the first line using * as a delimiter : it outputs a list\n",
    "columns = columns.split('*')\n",
    "columns"
   ]
  },
  {
   "cell_type": "code",
   "execution_count": 10,
   "id": "comparable-reducing",
   "metadata": {},
   "outputs": [
    {
     "data": {
      "text/plain": [
       "['product_name',\n",
       " 'mrp',\n",
       " 'price',\n",
       " 'pdp_url',\n",
       " 'brand_name',\n",
       " 'product_category',\n",
       " 'retailer',\n",
       " 'description',\n",
       " 'rating',\n",
       " 'review_count',\n",
       " 'style_attributes',\n",
       " 'total_sizes',\n",
       " 'available_size',\n",
       " 'color']"
      ]
     },
     "execution_count": 10,
     "metadata": {},
     "output_type": "execute_result"
    }
   ],
   "source": [
    "# strip all the white spaces in the columns variable\n",
    "columns = [var.strip() for var in columns]\n",
    "columns"
   ]
  },
  {
   "cell_type": "code",
   "execution_count": 11,
   "id": "specific-civilization",
   "metadata": {
    "scrolled": true
   },
   "outputs": [
    {
     "data": {
      "text/plain": [
       "['Very Sexy Strappy Lace Thong Panty',\n",
       " '$14.50 ',\n",
       " '$14.50 ',\n",
       " 'https://www.victoriassecret.com/panties/shop-all-panties/strappy-lace-thong-panty-very-sexy?ProductID=328310&CatalogueType=OLS',\n",
       " \"Victoria's Secret\",\n",
       " 'Strappy Lace Thong Panty',\n",
       " 'Victoriassecret US',\n",
       " 'Lots of cheek peek, pretty lace, a strappy back—this sexy panty is so not subtle. Allover lace with front bow V-back with crisscross straps Low rise Minimal back coverage: lots of cheek peek Imported nylon/spandex',\n",
       " '',\n",
       " '',\n",
       " '',\n",
       " '\"[\"\"XS\"\", \"\"S\"\", \"\"M\"\", \"\"L\"\", \"\"XL\"\"]\"',\n",
       " 'S',\n",
       " 'plum dust\\n']"
      ]
     },
     "execution_count": 11,
     "metadata": {},
     "output_type": "execute_result"
    }
   ],
   "source": [
    "# split the fourth line of the dataset\n",
    "line_list = one_line.split('*')\n",
    "line_list"
   ]
  },
  {
   "cell_type": "code",
   "execution_count": 12,
   "id": "de31d099",
   "metadata": {},
   "outputs": [],
   "source": [
    "# a function that strips the white space from an element of a list\n",
    "def clean_last(element):\n",
    "    return element.strip()"
   ]
  },
  {
   "cell_type": "code",
   "execution_count": 13,
   "id": "8a610647",
   "metadata": {},
   "outputs": [
    {
     "data": {
      "text/plain": [
       "'plum dust'"
      ]
     },
     "execution_count": 13,
     "metadata": {},
     "output_type": "execute_result"
    }
   ],
   "source": [
    "# apply it on the last element of the fourth row of the dataset\n",
    "clean_last(line_list[-1])"
   ]
  },
  {
   "cell_type": "code",
   "execution_count": 14,
   "id": "d91ae186",
   "metadata": {},
   "outputs": [],
   "source": [
    "# a function that cleans a row of the dataset with a given delimiter\n",
    "def clean_line(row, delimiter):\n",
    "    row_list = row.split(delimiter)\n",
    "    return [val.strip() for val in row_list]"
   ]
  },
  {
   "cell_type": "code",
   "execution_count": 15,
   "id": "cf2febaa",
   "metadata": {
    "scrolled": true
   },
   "outputs": [
    {
     "data": {
      "text/plain": [
       "['Very Sexy Strappy Lace Thong Panty',\n",
       " '$14.50',\n",
       " '$14.50',\n",
       " 'https://www.victoriassecret.com/panties/shop-all-panties/strappy-lace-thong-panty-very-sexy?ProductID=328310&CatalogueType=OLS',\n",
       " \"Victoria's Secret\",\n",
       " 'Strappy Lace Thong Panty',\n",
       " 'Victoriassecret US',\n",
       " 'Lots of cheek peek, pretty lace, a strappy back—this sexy panty is so not subtle. Allover lace with front bow V-back with crisscross straps Low rise Minimal back coverage: lots of cheek peek Imported nylon/spandex',\n",
       " '',\n",
       " '',\n",
       " '',\n",
       " '\"[\"\"XS\"\", \"\"S\"\", \"\"M\"\", \"\"L\"\", \"\"XL\"\"]\"',\n",
       " 'S',\n",
       " 'plum dust']"
      ]
     },
     "execution_count": 15,
     "metadata": {},
     "output_type": "execute_result"
    }
   ],
   "source": [
    "# apply on the saved line, with the relevant delimiter *\n",
    "clean_line(one_line,'*')"
   ]
  },
  {
   "cell_type": "code",
   "execution_count": 16,
   "id": "852e0d97",
   "metadata": {
    "scrolled": true
   },
   "outputs": [
    {
     "data": {
      "text/plain": [
       "['product_name',\n",
       " 'mrp',\n",
       " 'price',\n",
       " 'pdp_url',\n",
       " 'brand_name',\n",
       " 'product_category',\n",
       " 'retailer',\n",
       " 'description',\n",
       " 'rating',\n",
       " 'review_count',\n",
       " 'style_attributes',\n",
       " 'total_sizes',\n",
       " 'available_size',\n",
       " 'color']"
      ]
     },
     "execution_count": 16,
     "metadata": {},
     "output_type": "execute_result"
    }
   ],
   "source": [
    "# apply on the first line, with the relevant delimiter *\n",
    "clean_line(line,'*')"
   ]
  },
  {
   "cell_type": "code",
   "execution_count": 17,
   "id": "distinguished-vietnamese",
   "metadata": {},
   "outputs": [],
   "source": [
    "def conv(price):\n",
    "    return (float(price.strip('$') if '$' in price else np.nan))"
   ]
  },
  {
   "cell_type": "code",
   "execution_count": 18,
   "id": "incorrect-ocean",
   "metadata": {},
   "outputs": [
    {
     "data": {
      "text/plain": [
       "14.5"
      ]
     },
     "execution_count": 18,
     "metadata": {},
     "output_type": "execute_result"
    }
   ],
   "source": [
    "conv(line_list[1])"
   ]
  },
  {
   "cell_type": "code",
   "execution_count": 19,
   "id": "appointed-ability",
   "metadata": {},
   "outputs": [],
   "source": [
    "# a function that converts price into float, otherwise into NANs\n",
    "def conv_price(l_value):\n",
    "    if '$' in l_value :\n",
    "        value = l_value.strip('$')\n",
    "    else:\n",
    "        value = np.nan\n",
    "    return float(value)"
   ]
  },
  {
   "cell_type": "code",
   "execution_count": 20,
   "id": "continental-disclosure",
   "metadata": {},
   "outputs": [
    {
     "name": "stdout",
     "output_type": "stream",
     "text": [
      "14.5\n",
      "14.5\n"
     ]
    }
   ],
   "source": [
    "# applying the function on the two price variables\n",
    "for value in line_list[1:3]:\n",
    "    print(conv_price(value))"
   ]
  },
  {
   "cell_type": "code",
   "execution_count": 21,
   "id": "e161809c",
   "metadata": {},
   "outputs": [
    {
     "name": "stdout",
     "output_type": "stream",
     "text": [
      "mrp 14.5\n",
      "price 14.5\n"
     ]
    }
   ],
   "source": [
    "# applying the function on the two price variables- version 2\n",
    "for j in range(1,3):\n",
    "    print(columns[j], conv_price(line_list[j]))"
   ]
  },
  {
   "cell_type": "code",
   "execution_count": null,
   "id": "sealed-rogers",
   "metadata": {},
   "outputs": [],
   "source": [
    "# a function replacing empty values by \"nan\" otherwise into a float\n",
    "def repl_nan(l_value):\n",
    "    if l_value == '':\n",
    "        value = np.nan\n",
    "    else:\n",
    "        value = l_value\n",
    "    return float(value)"
   ]
  },
  {
   "cell_type": "code",
   "execution_count": 22,
   "id": "coordinate-conservative",
   "metadata": {},
   "outputs": [],
   "source": [
    "# a function replacing empty values by \"nan\" otherwise into a float - shorter implementation\n",
    "def repl_nan(l_value):\n",
    "    return (np.nan if l_value=='' else float(l_value))"
   ]
  },
  {
   "cell_type": "code",
   "execution_count": 23,
   "id": "taken-senate",
   "metadata": {},
   "outputs": [
    {
     "name": "stdout",
     "output_type": "stream",
     "text": [
      "nan\n",
      "nan\n",
      "nan\n"
     ]
    }
   ],
   "source": [
    "# applying it on three columns\n",
    "for value in line_list[8:11]:\n",
    "    print(repl_nan(value))"
   ]
  },
  {
   "cell_type": "code",
   "execution_count": 25,
   "id": "middle-recognition",
   "metadata": {},
   "outputs": [
    {
     "data": {
      "text/plain": [
       "['Very Sexy Strappy Lace Thong Panty',\n",
       " '$14.50 ',\n",
       " '$14.50 ',\n",
       " 'https://www.victoriassecret.com/panties/shop-all-panties/strappy-lace-thong-panty-very-sexy?ProductID=328310&CatalogueType=OLS',\n",
       " \"Victoria's Secret\",\n",
       " 'Strappy Lace Thong Panty',\n",
       " 'Victoriassecret US',\n",
       " 'Lots of cheek peek, pretty lace, a strappy back—this sexy panty is so not subtle. Allover lace with front bow V-back with crisscross straps Low rise Minimal back coverage: lots of cheek peek Imported nylon/spandex',\n",
       " '',\n",
       " '',\n",
       " '',\n",
       " '\"[\"\"XS\"\", \"\"S\"\", \"\"M\"\", \"\"L\"\", \"\"XL\"\"]\"',\n",
       " 'S',\n",
       " 'plum dust\\n']"
      ]
     },
     "execution_count": 25,
     "metadata": {},
     "output_type": "execute_result"
    }
   ],
   "source": [
    "line_list"
   ]
  },
  {
   "cell_type": "code",
   "execution_count": 26,
   "id": "collectible-singing",
   "metadata": {},
   "outputs": [],
   "source": [
    "# a function transforming size variables into a list or size in string\n",
    "def conv_size(l_string):\n",
    "    import regex as re\n",
    "    l_size = l_string.split(',')\n",
    "    return [re.sub('[^A-Z0-9]', '', size) for size in l_size]"
   ]
  },
  {
   "cell_type": "code",
   "execution_count": 27,
   "id": "alternate-division",
   "metadata": {},
   "outputs": [
    {
     "data": {
      "text/plain": [
       "['XS', 'S', 'M', 'L', 'XL']"
      ]
     },
     "execution_count": 27,
     "metadata": {},
     "output_type": "execute_result"
    }
   ],
   "source": [
    "# applying it on the total_sizes variable\n",
    "conv_size(line_list[-3])"
   ]
  },
  {
   "cell_type": "code",
   "execution_count": 28,
   "id": "alert-context",
   "metadata": {},
   "outputs": [],
   "source": [
    "# a synthetic preprocessing function\n",
    "def preproc(line_list):\n",
    "    '''\n",
    "    replaces all non $ prices (columns 1&2) into nan's\n",
    "    replaces all empty values (columns 8-10) into nan's\n",
    "    converts total size values into size list\n",
    "    removes the '\\n' character at the end of each row\n",
    "    '''\n",
    "    line_list[1:3] = [conv_price(value) for value in line_list[1:3]]\n",
    "    line_list[8:11] = [repl_nan(value) for value in line_list[8:11]]\n",
    "    line_list[-3] = conv_size(line_list[-3])\n",
    "    line_list[-1] = clean_last(line_list[-1])\n",
    "    return line_list"
   ]
  },
  {
   "cell_type": "code",
   "execution_count": 29,
   "id": "democratic-ballet",
   "metadata": {
    "scrolled": false
   },
   "outputs": [
    {
     "data": {
      "text/plain": [
       "['Very Sexy Strappy Lace Thong Panty',\n",
       " 14.5,\n",
       " 14.5,\n",
       " 'https://www.victoriassecret.com/panties/shop-all-panties/strappy-lace-thong-panty-very-sexy?ProductID=328310&CatalogueType=OLS',\n",
       " \"Victoria's Secret\",\n",
       " 'Strappy Lace Thong Panty',\n",
       " 'Victoriassecret US',\n",
       " 'Lots of cheek peek, pretty lace, a strappy back—this sexy panty is so not subtle. Allover lace with front bow V-back with crisscross straps Low rise Minimal back coverage: lots of cheek peek Imported nylon/spandex',\n",
       " nan,\n",
       " nan,\n",
       " nan,\n",
       " ['XS', 'S', 'M', 'L', 'XL'],\n",
       " 'S',\n",
       " 'plum dust']"
      ]
     },
     "execution_count": 29,
     "metadata": {},
     "output_type": "execute_result"
    }
   ],
   "source": [
    "preproc(line_list)"
   ]
  },
  {
   "cell_type": "markdown",
   "id": "0c02dd92",
   "metadata": {},
   "source": [
    "[Table of Contents](#summary)"
   ]
  },
  {
   "cell_type": "markdown",
   "id": "reported-photography",
   "metadata": {},
   "source": [
    "<a class='anchor' id='part2'></a>\n",
    "## Part 2 : Dataset preprocessing\n",
    "[Table of Contents](#summary)"
   ]
  },
  {
   "cell_type": "code",
   "execution_count": 30,
   "id": "norman-hands",
   "metadata": {},
   "outputs": [],
   "source": [
    "# reading all the the rows of the data set - version 1\n",
    "df_raw = dict()\n",
    "with open('victoria.csv', 'r', encoding='utf-8') as file:\n",
    "    idx = -1\n",
    "    for line in file:\n",
    "        row = line.split('*')\n",
    "        if idx == -1 :\n",
    "            df_raw['columns'] = row\n",
    "            idx = 0\n",
    "            continue\n",
    "        df_raw[idx] = row\n",
    "        idx += 1"
   ]
  },
  {
   "cell_type": "code",
   "execution_count": 31,
   "id": "structural-innocent",
   "metadata": {},
   "outputs": [],
   "source": [
    "# reading all the the rows of the data set - version 2\n",
    "df_raw = dict()\n",
    "with open('victoria.csv', 'r', encoding='utf-8') as file:\n",
    "    idx = -1\n",
    "    for line in file:\n",
    "        row = line.split('*')\n",
    "        if idx == -1 :\n",
    "            df_raw['columns'] = row\n",
    "            idx += 1\n",
    "        else :\n",
    "            df_raw[idx] = row\n",
    "            idx += 1"
   ]
  },
  {
   "cell_type": "code",
   "execution_count": 32,
   "id": "complex-dryer",
   "metadata": {},
   "outputs": [
    {
     "data": {
      "text/plain": [
       "453387"
      ]
     },
     "execution_count": 32,
     "metadata": {},
     "output_type": "execute_result"
    }
   ],
   "source": [
    "# check length of 'dataframe' dictionary\n",
    "len(df_raw)"
   ]
  },
  {
   "cell_type": "code",
   "execution_count": 33,
   "id": "minute-crest",
   "metadata": {},
   "outputs": [],
   "source": [
    "import copy\n",
    "raw_df = copy.deepcopy(df_raw)"
   ]
  },
  {
   "cell_type": "code",
   "execution_count": 36,
   "id": "cultural-edward",
   "metadata": {},
   "outputs": [
    {
     "data": {
      "text/plain": [
       "['product_name',\n",
       " 'mrp',\n",
       " 'price',\n",
       " 'pdp_url',\n",
       " 'brand_name',\n",
       " 'product_category',\n",
       " 'retailer',\n",
       " 'description',\n",
       " 'rating',\n",
       " 'review_count',\n",
       " 'style_attributes',\n",
       " 'total_sizes',\n",
       " 'available_size',\n",
       " 'color\\n']"
      ]
     },
     "execution_count": 36,
     "metadata": {},
     "output_type": "execute_result"
    }
   ],
   "source": [
    "# check the column name\n",
    "df_raw['columns']"
   ]
  },
  {
   "cell_type": "code",
   "execution_count": null,
   "id": "falling-scanning",
   "metadata": {
    "scrolled": true
   },
   "outputs": [],
   "source": [
    "# check the row # 90000\n",
    "df_raw[90000]"
   ]
  },
  {
   "cell_type": "code",
   "execution_count": null,
   "id": "smooth-applicant",
   "metadata": {},
   "outputs": [],
   "source": [
    "df_raw[393544]"
   ]
  },
  {
   "cell_type": "code",
   "execution_count": 35,
   "id": "fantastic-auckland",
   "metadata": {},
   "outputs": [],
   "source": [
    "# apply preprocessing on the whole raw 'dataframe' dictionary\n",
    "df_proc = {idx:preproc(row) for idx,row in df_raw.items() if type(idx)==int}"
   ]
  },
  {
   "cell_type": "code",
   "execution_count": 38,
   "id": "extraordinary-savannah",
   "metadata": {},
   "outputs": [
    {
     "data": {
      "text/plain": [
       "453386"
      ]
     },
     "execution_count": 38,
     "metadata": {},
     "output_type": "execute_result"
    }
   ],
   "source": [
    "# check the size of the processed dataset - it does not have a column row\n",
    "len(df_proc)"
   ]
  },
  {
   "cell_type": "code",
   "execution_count": null,
   "id": "recent-tractor",
   "metadata": {},
   "outputs": [],
   "source": [
    "df_proc[393544]"
   ]
  },
  {
   "cell_type": "code",
   "execution_count": null,
   "id": "motivated-calculator",
   "metadata": {},
   "outputs": [],
   "source": [
    "raw_df[393544]"
   ]
  },
  {
   "cell_type": "code",
   "execution_count": 37,
   "id": "liquid-disease",
   "metadata": {},
   "outputs": [
    {
     "name": "stdout",
     "output_type": "stream",
     "text": [
      "506\n"
     ]
    }
   ],
   "source": [
    "# count the number on non $ currencies (nan) for the price variables\n",
    "count = 0\n",
    "for row in df_raw.values():\n",
    "    if row[1] is np.nan or row[2] is np.nan :\n",
    "        count += 1\n",
    "print(count)"
   ]
  },
  {
   "cell_type": "code",
   "execution_count": 39,
   "id": "adverse-indonesian",
   "metadata": {},
   "outputs": [],
   "source": [
    "# create a dataframe with non $ currencies\n",
    "df_proc_nan = {idx:row for idx,row in df_proc.items() if (row[1] is not np.nan and row[2] is not np.nan)}"
   ]
  },
  {
   "cell_type": "code",
   "execution_count": 40,
   "id": "abroad-partner",
   "metadata": {},
   "outputs": [
    {
     "data": {
      "text/plain": [
       "452880"
      ]
     },
     "execution_count": 40,
     "metadata": {},
     "output_type": "execute_result"
    }
   ],
   "source": [
    "# check size of non $ dataframe\n",
    "len(df_proc_nan)"
   ]
  },
  {
   "cell_type": "code",
   "execution_count": 41,
   "id": "parliamentary-cambridge",
   "metadata": {
    "scrolled": true
   },
   "outputs": [
    {
     "data": {
      "text/plain": [
       "True"
      ]
     },
     "execution_count": 41,
     "metadata": {},
     "output_type": "execute_result"
    }
   ],
   "source": [
    "# check length of full processed dataframe\n",
    "len(df_proc) == len(df_proc_nan) + count"
   ]
  },
  {
   "cell_type": "code",
   "execution_count": null,
   "id": "located-inventory",
   "metadata": {},
   "outputs": [],
   "source": []
  }
 ],
 "metadata": {
  "kernelspec": {
   "display_name": "Python 3",
   "language": "python",
   "name": "python3"
  },
  "language_info": {
   "codemirror_mode": {
    "name": "ipython",
    "version": 3
   },
   "file_extension": ".py",
   "mimetype": "text/x-python",
   "name": "python",
   "nbconvert_exporter": "python",
   "pygments_lexer": "ipython3",
   "version": "3.8.5"
  }
 },
 "nbformat": 4,
 "nbformat_minor": 5
}
